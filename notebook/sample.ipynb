{
 "cells": [
  {
   "cell_type": "code",
   "execution_count": null,
   "metadata": {
    "vscode": {
     "languageId": "plaintext"
    }
   },
   "outputs": [],
   "source": [
    "!pwd\n",
    "!ls"
   ]
  },
  {
   "cell_type": "code",
   "execution_count": null,
   "metadata": {
    "vscode": {
     "languageId": "plaintext"
    }
   },
   "outputs": [],
   "source": [
    "import os\n",
    "\n",
    "from hydra import compose, initialize\n",
    "from omegaconf import OmegaConf\n",
    "\n",
    "with initialize(version_base=None, config_path=\"../experiments/sample\"):\n",
    "    cfg = compose(\n",
    "        config_name=\"config.yaml\", overrides=[\"debug=True\"], return_hydra_config=True\n",
    "    )\n",
    "    print(OmegaConf.to_yaml(cfg.exp))"
   ]
  },
  {
   "cell_type": "code",
   "execution_count": null,
   "metadata": {
    "vscode": {
     "languageId": "plaintext"
    }
   },
   "outputs": [],
   "source": [
    "from pathlib import Path\n",
    "\n",
    "runtime_choices = cfg.hydra.runtime.choices\n",
    "exp_name = f\"notebook/{runtime_choices.exp}\"\n",
    "print(f\"exp_name: {exp_name}\")\n",
    "output_path = Path(cfg.dir.output_dir) / exp_name\n",
    "print(f\"ouput_path: {output_path}\")\n",
    "os.makedirs(output_path, exist_ok=True)"
   ]
  }
 ],
 "metadata": {
  "language_info": {
   "name": "python"
  }
 },
 "nbformat": 4,
 "nbformat_minor": 2
}
